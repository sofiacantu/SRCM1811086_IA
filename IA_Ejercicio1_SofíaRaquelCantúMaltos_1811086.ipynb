{
  "nbformat": 4,
  "nbformat_minor": 0,
  "metadata": {
    "colab": {
      "name": "IA_Ejercicio1_SofíaRaquelCantúMaltos_1811086",
      "provenance": [],
      "authorship_tag": "ABX9TyMw1jxuU0hbvCBdkVyxZinR",
      "include_colab_link": true
    },
    "kernelspec": {
      "name": "python3",
      "display_name": "Python 3"
    },
    "language_info": {
      "name": "python"
    }
  },
  "cells": [
    {
      "cell_type": "markdown",
      "metadata": {
        "id": "view-in-github",
        "colab_type": "text"
      },
      "source": [
        "<a href=\"https://colab.research.google.com/github/sofiacantu/SRCM1811086_IA/blob/main/IA_Ejercicio1_Sof%C3%ADaRaquelCant%C3%BAMaltos_1811086.ipynb\" target=\"_parent\"><img src=\"https://colab.research.google.com/assets/colab-badge.svg\" alt=\"Open In Colab\"/></a>"
      ]
    },
    {
      "cell_type": "code",
      "metadata": {
        "id": "CSz1lSqhqu9j"
      },
      "source": [
        "Actividad 2.- Ejercicios Introducción Python\n",
        "Sofía Raquel Cantú Maltos. 1811086. jueves N4"
      ],
      "execution_count": null,
      "outputs": []
    },
    {
      "cell_type": "code",
      "metadata": {
        "colab": {
          "base_uri": "https://localhost:8080/"
        },
        "id": "TIkc2l1ZPh8B",
        "outputId": "77069553-ec32-4b09-adae-0b2aaf5b6e22"
      },
      "source": [
        "\"Ejercicio 1\"\n",
        "print (\"cual es tu nombre y tu edad?\")\n",
        "nombre = input()\n",
        "edad = input()\n",
        "\n",
        "print (\"cual es tu frase favorita y su autor?\")\n",
        "frase = input ()\n",
        "autor = input()\n",
        "\n",
        "print ('Mi nombre es', nombre, ', tengo ', edad,'años,', 'mi frase favorita es:', frase, '-', autor)"
      ],
      "execution_count": 23,
      "outputs": [
        {
          "output_type": "stream",
          "name": "stdout",
          "text": [
            "cual es tu nombre y tu edad?\n",
            "Sofía \n",
            "20\n",
            "cual es tu frase favorita y su autor?\n",
            "love is a maze but you is amaze\n",
            "KNJ\n",
            "Mi nombre es Sofía  , tengo  20 años, mi frase favorita es: love is a maze but you is amaze - KNJ\n"
          ]
        }
      ]
    },
    {
      "cell_type": "code",
      "metadata": {
        "colab": {
          "base_uri": "https://localhost:8080/"
        },
        "id": "LpZsvenIQav1",
        "outputId": "6789927c-9842-4b8a-de8d-6b6d398d33b3"
      },
      "source": [
        "\"Ejercicio 2\"\n",
        "print (\"insertar 2 numeros enteros\")\n",
        "num1 = input()\n",
        "num2 = input()\n",
        "\n",
        "print (\"insertar 2 numeros flotantes\")\n",
        "num3 = input()\n",
        "num4 = input()\n",
        "\n",
        "s = float(num1) + float(num2)\n",
        "r = float(num1) - float(num2)\n",
        "m = float(num1) * float(num2)\n",
        "d = float(num1) / float(num2)\n",
        "\n",
        "s2 = float(num3) + float(num4)\n",
        "r2 = float(num3) - float(num4)\n",
        "m2 = float(num3) * float(num4)\n",
        "d2 = float(num3) / float(num4)\n",
        "\n",
        "print(\"utilizando los 2 numeros enteros\")\n",
        "print(\" suma  =\", s)\n",
        "print(\" resta =\", r)\n",
        "print(\" multiplicación =\",m)\n",
        "print(\" división =\", d)\n",
        "\n",
        "print(\"utilizando los 2 numeros flotantes\")\n",
        "print(\" suma =\", s2)\n",
        "print(\" resta =\", r2)\n",
        "print(\" multiplicación =\",m2)\n",
        "print(\" división =\", d2)\n"
      ],
      "execution_count": 24,
      "outputs": [
        {
          "output_type": "stream",
          "name": "stdout",
          "text": [
            "insertar 2 numeros enteros\n",
            "4\n",
            "2\n",
            "insertar 2 numeros flotantes\n",
            "1.5\n",
            "2.2\n",
            "utilizando los 2 numeros enteros\n",
            " suma  = 6.0\n",
            " resta = 2.0\n",
            " multiplicación = 8.0\n",
            " división = 2.0\n",
            "utilizando los 2 numeros flotantes\n",
            " suma = 3.7\n",
            " resta = -0.7000000000000002\n",
            " multiplicación = 3.3000000000000003\n",
            " división = 0.6818181818181818\n"
          ]
        }
      ]
    },
    {
      "cell_type": "code",
      "metadata": {
        "colab": {
          "base_uri": "https://localhost:8080/"
        },
        "id": "pREnF9fLRo97",
        "outputId": "3a95e85e-db55-4349-b429-78097d8a941b"
      },
      "source": [
        "\"Ejercicio 3\"\n",
        "\n",
        "\"and\"\n",
        "b1= (10+10) == (2*10) and (5+5) < 15\n",
        "print(b1)\n",
        "b2= \"si\" == \"no\" and (2+2) > 1\n",
        "print(b2)\n",
        "\n",
        "\"or\"\n",
        "\n",
        "b3= (5*8 == 14) or (10+5 >= 7)\n",
        "print(b3)\n",
        "b4= (21 >= 65) or (3*3 == 10)\n",
        "print(b4)\n",
        "\n",
        "\"not\"\n",
        "\n",
        "b5= not 20+11 >= 60\n",
        "print(b5)\n",
        "b6= not \"si\" == \"no\"\n",
        "print(b6)\n"
      ],
      "execution_count": 25,
      "outputs": [
        {
          "output_type": "stream",
          "name": "stdout",
          "text": [
            "True\n",
            "False\n",
            "True\n",
            "False\n",
            "True\n",
            "True\n"
          ]
        }
      ]
    }
  ]
}